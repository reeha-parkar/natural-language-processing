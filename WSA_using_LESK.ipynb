{
 "cells": [
  {
   "cell_type": "code",
   "execution_count": 1,
   "metadata": {},
   "outputs": [
    {
     "name": "stderr",
     "output_type": "stream",
     "text": [
      "Warming up PyWSD (takes ~10 secs)... took 21.99965763092041 secs.\n"
     ]
    }
   ],
   "source": [
    "# importing required libraries\n",
    "from nltk.corpus import wordnet as wn\n",
    "from pywsd.lesk import simple_lesk\n",
    "import wordnet\n",
    "import nltk"
   ]
  },
  {
   "cell_type": "code",
   "execution_count": 2,
   "metadata": {},
   "outputs": [
    {
     "name": "stdout",
     "output_type": "stream",
     "text": [
      "Individual word sense using WORDNET\n",
      "Word: bank\n",
      "[Synset('bank.n.01'), Synset('depository_financial_institution.n.01'), Synset('bank.n.03'), Synset('bank.n.04'), Synset('bank.n.05'), Synset('bank.n.06'), Synset('bank.n.07'), Synset('savings_bank.n.02'), Synset('bank.n.09'), Synset('bank.n.10'), Synset('bank.v.01'), Synset('bank.v.02'), Synset('bank.v.03'), Synset('bank.v.04'), Synset('bank.v.05'), Synset('deposit.v.02'), Synset('bank.v.07'), Synset('trust.v.01')]\n"
     ]
    }
   ],
   "source": [
    "# Check individual word sense using wordnet\n",
    "print('Individual word sense using WORDNET')\n",
    "print('Word: bank')\n",
    "synsets = wn.synsets('bank')\n",
    "print(synsets)"
   ]
  },
  {
   "cell_type": "code",
   "execution_count": 3,
   "metadata": {},
   "outputs": [
    {
     "name": "stdout",
     "output_type": "stream",
     "text": [
      "Individual word sense using WORDNET\n",
      "Word: plant\n",
      "[Synset('plant.n.01'), Synset('plant.n.02'), Synset('plant.n.03'), Synset('plant.n.04'), Synset('plant.v.01'), Synset('implant.v.01'), Synset('establish.v.02'), Synset('plant.v.04'), Synset('plant.v.05'), Synset('plant.v.06')]\n"
     ]
    }
   ],
   "source": [
    "print('Individual word sense using WORDNET')\n",
    "print('Word: plant')\n",
    "synsets = wn.synsets('plant')\n",
    "print(synsets)"
   ]
  },
  {
   "cell_type": "code",
   "execution_count": 4,
   "metadata": {},
   "outputs": [
    {
     "name": "stdout",
     "output_type": "stream",
     "text": [
      "Word sense using LESK\n",
      "Context-1: I went to the bank to deposit my money\n",
      "Sense: Synset('depository_financial_institution.n.01')\n",
      "Definition :  a financial institution that accepts deposits and channels the money into lending activities\n",
      "Context-2: The river bank was full of dead fishes\n",
      "Sense: Synset('bank.n.01')\n",
      "Definition :  sloping land (especially the slope beside a body of water)\n"
     ]
    }
   ],
   "source": [
    "# Check word sense in sentenceusing LESK\n",
    "print('Word sense using LESK')\n",
    "sentences = ['I went to the bank to deposit my money', 'The river bank was full of dead fishes']  \n",
    "\n",
    "# Context 1\n",
    "# Calling the lesk function and printing results for both the sentences  \n",
    "print (\"Context-1:\", sentences[0])  \n",
    "answer = simple_lesk(sentences[0],'bank')  \n",
    "print (\"Sense:\", answer)  \n",
    "print (\"Definition : \", answer.definition())  \n",
    "\n",
    "# Context 2\n",
    "print (\"Context-2:\", sentences[1])  \n",
    "answer = simple_lesk(sentences[1],'bank')  \n",
    "print (\"Sense:\", answer)  \n",
    "print (\"Definition : \", answer.definition())  "
   ]
  },
  {
   "cell_type": "code",
   "execution_count": 5,
   "metadata": {},
   "outputs": [
    {
     "name": "stdout",
     "output_type": "stream",
     "text": [
      "Context-1: The workers at the plant were overworked\n",
      "Sense: Synset('plant.v.06')\n",
      "Definition :  put firmly in the mind\n",
      "Context-2: The plant was no longer bearing flowers\n",
      "Sense: Synset('plant.v.01')\n",
      "Definition :  put or set (seeds, seedlings, or plants) into the ground\n",
      "Context-3: The workers at the industrial plant were overworked\n",
      "Sense: Synset('plant.n.01')\n",
      "Definition :  buildings for carrying on industrial labor\n"
     ]
    }
   ],
   "source": [
    "# Checking with another set of sentences\n",
    "new_sentences = ['The workers at the plant were overworked', 'The plant was no longer bearing flowers', \n",
    "                 'The workers at the industrial plant were overworked']\n",
    "\n",
    "# Calling the lesk function and printing results  \n",
    "print (\"Context-1:\", new_sentences[0])  \n",
    "answer = simple_lesk(new_sentences[0],'plant')  \n",
    "print (\"Sense:\", answer)  \n",
    "print (\"Definition : \", answer.definition()) \n",
    "\n",
    "print (\"Context-2:\", new_sentences[1])  \n",
    "answer = simple_lesk(new_sentences[1],'plant')  \n",
    "print (\"Sense:\", answer)  \n",
    "print (\"Definition : \", answer.definition())  \n",
    "\n",
    "print (\"Context-3:\", new_sentences[2])  \n",
    "answer = simple_lesk(new_sentences[2],'plant')  \n",
    "print (\"Sense:\", answer)  \n",
    "print (\"Definition : \", answer.definition())  "
   ]
  },
  {
   "cell_type": "code",
   "execution_count": null,
   "metadata": {},
   "outputs": [],
   "source": []
  }
 ],
 "metadata": {
  "kernelspec": {
   "display_name": "Python3 [ibm]",
   "language": "python",
   "name": "ibm"
  },
  "language_info": {
   "codemirror_mode": {
    "name": "ipython",
    "version": 3
   },
   "file_extension": ".py",
   "mimetype": "text/x-python",
   "name": "python",
   "nbconvert_exporter": "python",
   "pygments_lexer": "ipython3",
   "version": "3.7.9"
  }
 },
 "nbformat": 4,
 "nbformat_minor": 4
}
