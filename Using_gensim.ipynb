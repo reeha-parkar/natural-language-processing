{
 "cells": [
  {
   "cell_type": "code",
   "execution_count": 1,
   "id": "58545018",
   "metadata": {},
   "outputs": [],
   "source": [
    "# Using gensim\n",
    "import gensim\n",
    "from gensim import corpora\n",
    "from pprint import pprint"
   ]
  },
  {
   "cell_type": "code",
   "execution_count": 12,
   "id": "94b6e76b",
   "metadata": {},
   "outputs": [],
   "source": [
    "doc = ['The universe is all of and and and perspective and and and and and and and and space and time and their contents, including planets, stars, galaxies, and all other forms of matter and energy. The Big Bang theory is the prevailing cosmological description of the development of the universe.']"
   ]
  },
  {
   "cell_type": "code",
   "execution_count": 13,
   "id": "2d95b8e3",
   "metadata": {},
   "outputs": [
    {
     "name": "stdout",
     "output_type": "stream",
     "text": [
      "[['The', 'universe', 'is', 'all', 'of', 'and', 'and', 'and', 'perspective', 'and', 'and', 'and', 'and', 'and', 'and', 'and', 'and', 'space', 'and', 'time', 'and', 'their', 'contents,', 'including', 'planets,', 'stars,', 'galaxies,', 'and', 'all', 'other', 'forms', 'of', 'matter', 'and', 'energy.', 'The', 'Big', 'Bang', 'theory', 'is', 'the', 'prevailing', 'cosmological', 'description', 'of', 'the', 'development', 'of', 'the', 'universe.']]\n"
     ]
    }
   ],
   "source": [
    "# Convert the text into tokens\n",
    "text_tokens = [[text for text in doc.split()] for doc in doc]\n",
    "print(text_tokens)"
   ]
  },
  {
   "cell_type": "code",
   "execution_count": 14,
   "id": "b40cde58",
   "metadata": {},
   "outputs": [
    {
     "name": "stdout",
     "output_type": "stream",
     "text": [
      "Dictionary(28 unique tokens: ['Bang', 'Big', 'The', 'all', 'and']...)\n"
     ]
    }
   ],
   "source": [
    "# Create a dictionary of unique tokens\n",
    "dict_LoS = corpora.Dictionary(text_tokens)\n",
    "print(dict_LoS)"
   ]
  },
  {
   "cell_type": "code",
   "execution_count": 15,
   "id": "c185c338",
   "metadata": {},
   "outputs": [
    {
     "name": "stdout",
     "output_type": "stream",
     "text": [
      "{'Bang': 0, 'Big': 1, 'The': 2, 'all': 3, 'and': 4, 'contents,': 5, 'cosmological': 6, 'description': 7, 'development': 8, 'energy.': 9, 'forms': 10, 'galaxies,': 11, 'including': 12, 'is': 13, 'matter': 14, 'of': 15, 'other': 16, 'perspective': 17, 'planets,': 18, 'prevailing': 19, 'space': 20, 'stars,': 21, 'the': 22, 'their': 23, 'theory': 24, 'time': 25, 'universe': 26, 'universe.': 27}\n"
     ]
    }
   ],
   "source": [
    "# Assigned integer to the unique tokens by gensim\n",
    "print(dict_LoS.token2id)"
   ]
  }
 ],
 "metadata": {
  "kernelspec": {
   "display_name": "Python 3",
   "language": "python",
   "name": "python3"
  },
  "language_info": {
   "codemirror_mode": {
    "name": "ipython",
    "version": 3
   },
   "file_extension": ".py",
   "mimetype": "text/x-python",
   "name": "python",
   "nbconvert_exporter": "python",
   "pygments_lexer": "ipython3",
   "version": "3.7.9"
  }
 },
 "nbformat": 4,
 "nbformat_minor": 5
}
